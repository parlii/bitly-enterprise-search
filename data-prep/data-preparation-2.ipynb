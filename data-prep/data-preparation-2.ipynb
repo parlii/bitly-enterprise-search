{
 "cells": [
  {
   "cell_type": "code",
   "execution_count": null,
   "metadata": {},
   "outputs": [],
   "source": [
    "import os\n",
    "os.environ[\"GOOGLE_APPLICATION_CREDENTIALS\"]=\"/Users/drizal/parli/keys/bitly-ai-experiments-f0eacba17094.json\"\n",
    "\n",
    "BUCKET_NAME = \"bitly-enterprise-search-docs\""
   ]
  },
  {
   "cell_type": "markdown",
   "metadata": {},
   "source": [
    "https://console.cloud.google.com/storage/browser/bitly-enterprise-search-docs;tab=objects?forceOnBucketsSortingFiltering=true&project=bitly-ai-experiments&prefix=&forceOnObjectsSortingFiltering=false"
   ]
  },
  {
   "cell_type": "markdown",
   "metadata": {},
   "source": [
    "https://console.cloud.google.com/gen-app-builder/engines?project=bitly-ai-experiments"
   ]
  },
  {
   "cell_type": "code",
   "execution_count": null,
   "metadata": {},
   "outputs": [],
   "source": [
    "from google.cloud import storage\n",
    "\n",
    "storage_client = storage.Client()\n",
    "\n",
    "bucket = storage_client.get_bucket(BUCKET_NAME)"
   ]
  },
  {
   "cell_type": "code",
   "execution_count": null,
   "metadata": {},
   "outputs": [],
   "source": [
    "# Upload all files in the clean_plus_summary directory to the blob container\n",
    "def upload_blob(clean_plus_summary_file):\n",
    "    # remove 'prepared_data/clean_plus_summary/' from file name\n",
    "    file_name = clean_plus_summary_file.replace(\"prepared_data/clean_plus_summary/\", \"\")\n",
    "\n",
    "    #replace / to -- in filename\n",
    "    file_name = file_name.replace(\"/\", \"--\")\n",
    "    \n",
    "    # create a blob directory name and append the filename\n",
    "    blob_file_path = \"prepared_data_clean_plus_summary/\" + file_name\n",
    "    \n",
    "    print(\"Uploading file: \", clean_plus_summary_file, \" to blob: \", blob_file_path)\n",
    "\n",
    "    # url_path = file_name.replace(\"--\", \"/\").replace(\".txt\", \".md\")\n",
    "\n",
    "    # URL = f\"https://github.com/bitly/docs/blob/master/{url_path}\"\n",
    "    # print(URL)\n",
    "\n",
    "    # create a new blob object and upload the file\n",
    "    blob = bucket.blob(blob_file_path)  # create a blob object with the right name\n",
    "    blob.upload_from_filename(clean_plus_summary_file)\n"
   ]
  },
  {
   "cell_type": "code",
   "execution_count": null,
   "metadata": {},
   "outputs": [],
   "source": [
    "import concurrent.futures\n",
    "import glob\n",
    "\n",
    "clean_plus_summary_files = glob.glob(\"prepared_data/clean_plus_summary/**/*.txt\", recursive=True)\n",
    "\n",
    "# Using concurrent futures to parallelize the process.\n",
    "with concurrent.futures.ThreadPoolExecutor(max_workers=20) as executor:\n",
    "    results = list(executor.map(upload_blob, clean_plus_summary_files))"
   ]
  }
 ],
 "metadata": {
  "kernelspec": {
   "display_name": "myenv",
   "language": "python",
   "name": "python3"
  },
  "language_info": {
   "codemirror_mode": {
    "name": "ipython",
    "version": 3
   },
   "file_extension": ".py",
   "mimetype": "text/x-python",
   "name": "python",
   "nbconvert_exporter": "python",
   "pygments_lexer": "ipython3",
   "version": "3.9.6"
  },
  "orig_nbformat": 4
 },
 "nbformat": 4,
 "nbformat_minor": 2
}
