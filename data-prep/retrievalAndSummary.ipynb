{
 "cells": [
  {
   "cell_type": "code",
   "execution_count": null,
   "metadata": {},
   "outputs": [],
   "source": [
    "%pip install google-cloud-discoveryengine"
   ]
  },
  {
   "cell_type": "code",
   "execution_count": null,
   "metadata": {},
   "outputs": [],
   "source": [
    "%pip install langchain"
   ]
  },
  {
   "cell_type": "code",
   "execution_count": null,
   "metadata": {},
   "outputs": [],
   "source": [
    "%pip install transformers"
   ]
  },
  {
   "cell_type": "code",
   "execution_count": null,
   "metadata": {},
   "outputs": [],
   "source": [
    "from langchain.retrievers import GoogleCloudEnterpriseSearchRetriever\n",
    "\n",
    "PROJECT_ID = \"bitly-ai-experiments\"  # Set to your Project ID\n",
    "SEARCH_ENGINE_ID = \"bitly-docs-enterprise-sear_1696274081167\"  # Set to your data store ID"
   ]
  },
  {
   "cell_type": "code",
   "execution_count": null,
   "metadata": {},
   "outputs": [],
   "source": [
    "import os\n",
    "os.environ[\"GOOGLE_APPLICATION_CREDENTIALS\"]=\"/Users/drizal/parli/keys/bitly-ai-experiments-f0eacba17094.json\""
   ]
  },
  {
   "cell_type": "code",
   "execution_count": null,
   "metadata": {},
   "outputs": [],
   "source": [
    "retriever = GoogleCloudEnterpriseSearchRetriever(\n",
    "    project_id=PROJECT_ID,\n",
    "    search_engine_id=SEARCH_ENGINE_ID,\n",
    "    max_documents=4,\n",
    "    get_extractive_answers=True,\n",
    "    engine_data_type=0\n",
    ")"
   ]
  },
  {
   "cell_type": "code",
   "execution_count": null,
   "metadata": {},
   "outputs": [],
   "source": [
    "query = \"What is the purpose of Plan Z?\"\n",
    "\n",
    "result = retriever.get_relevant_documents(query)\n",
    "for doc in result:\n",
    "    print(doc.metadata['source'])\n",
    "    print(doc.page_content)"
   ]
  },
  {
   "cell_type": "code",
   "execution_count": null,
   "metadata": {},
   "outputs": [],
   "source": [
    "query = \"What is bitgen?\"\n",
    "\n",
    "result = retriever.get_relevant_documents(query)\n",
    "for doc in result:\n",
    "    print(doc.metadata['source'])\n",
    "    print(doc.page_content)"
   ]
  },
  {
   "cell_type": "code",
   "execution_count": null,
   "metadata": {},
   "outputs": [],
   "source": [
    "query = \"How to create a new service?\"\n",
    "\n",
    "result = retriever.get_relevant_documents(query)\n",
    "for doc in result:\n",
    "    print(doc.metadata['source'])\n",
    "    print(doc.page_content)"
   ]
  },
  {
   "cell_type": "code",
   "execution_count": null,
   "metadata": {},
   "outputs": [],
   "source": [
    "from langchain.llms import VertexAI\n",
    "\n",
    "llm = VertexAI()"
   ]
  },
  {
   "cell_type": "code",
   "execution_count": null,
   "metadata": {},
   "outputs": [],
   "source": [
    "# Create chain to answer questions\n",
    "from langchain.chains import RetrievalQA\n",
    "\n",
    "qa = RetrievalQA.from_llm(llm=llm, retriever=retriever)\n"
   ]
  },
  {
   "cell_type": "code",
   "execution_count": null,
   "metadata": {},
   "outputs": [],
   "source": [
    "query = \"What is the purpose of Plan Z?\"\n",
    "qa.run(query)"
   ]
  },
  {
   "cell_type": "code",
   "execution_count": null,
   "metadata": {},
   "outputs": [],
   "source": [
    "query = \"How to enable and disable Plan Z?\"\n",
    "qa.run(query)"
   ]
  },
  {
   "cell_type": "code",
   "execution_count": null,
   "metadata": {},
   "outputs": [],
   "source": [
    "query = \"Describe how Plan Z is built\"\n",
    "qa.run(query)"
   ]
  },
  {
   "cell_type": "code",
   "execution_count": null,
   "metadata": {},
   "outputs": [],
   "source": [
    "query = \"Who are the on-call engineers for Plan Z?\"\n",
    "qa.run(query)"
   ]
  },
  {
   "cell_type": "code",
   "execution_count": null,
   "metadata": {},
   "outputs": [],
   "source": [
    "query = \"What script switches the DNS for plan Z?\"\n",
    "qa.run(query)"
   ]
  },
  {
   "cell_type": "code",
   "execution_count": null,
   "metadata": {},
   "outputs": [],
   "source": [
    "query = \"What is bitgen?\"\n",
    "qa.run(query)"
   ]
  },
  {
   "cell_type": "code",
   "execution_count": null,
   "metadata": {},
   "outputs": [],
   "source": [
    "query = \"How to create a new service?\"\n",
    "qa.run(query)"
   ]
  },
  {
   "cell_type": "code",
   "execution_count": null,
   "metadata": {},
   "outputs": [],
   "source": [
    "temp = qas({\"query\": \"How to create a new service?\"})\n",
    "print(temp)"
   ]
  },
  {
   "cell_type": "code",
   "execution_count": 15,
   "metadata": {},
   "outputs": [
    {
     "name": "stdout",
     "output_type": "stream",
     "text": [
      "[Document(page_content='---------- Summary: This document describes the process of creating a new service on either a cloud VM or GKE. To create a new service on a cloud VM, follow these steps: 1. Set up the package and base file structure. 2. Set up the infrastructure for the service. 3. Add the service to the Internal API Explorer. 4.', metadata={'id': 'a3dffd453cbe7e4ee78520b55cb95245', 'source': 'gs://bitly-enterprise-search-docs/prepared_data_clean_plus_summary/standards_create_a_service.txt:'}), Document(page_content='To do this, they will need to have created a PR first. * To create a local copy of their branch run: ```bash git fetch bitly pull/{{PR NUMBER}}/head:{{WHAT LOCAL BRANCH SHOULD BE NAMED}} ``` * Checkout the branch as you normally would to work on it * To push changes to the branch, using the GitHub username of the person you pulled from and their original branch name run: ```bash git push -f {{GITHUB USERNAME}} HEAD:{{BRANCH NAME}} ``` * ***IMPORTANT***: The above command uses the `-f` flag to force push so be sure you have the latest version of their branch pulled down (if applicable) and that you are ok to potentially overwrite their commit history before pushing. If you are simply adding a commit, you can leave this off. * ***NOTE***: In order to do this, you must have the user&#39;s git remote added to your vm.', metadata={'id': 'c54d3aa5203dbb127be8952eed494a28', 'source': 'gs://bitly-enterprise-search-docs/prepared_data_clean_plus_summary/get_started_guide_new_bitizen_survival_guide.txt:'}), Document(page_content='Additional questions have been tracked. ### Which back-end data store should store feature limit usage?', metadata={'id': '4f54e00a70267aa127c57353c285db8a', 'source': 'gs://bitly-enterprise-search-docs/prepared_data_clean_plus_summary/coding_guide_product_requirements_feature_usage.txt:'}), Document(page_content='* Create `v4_api` endpoints to enable configuration of deep link apps/SAF * Update `bitly2/decodes_app` to add new logic that calls new internal service for SAF look-up and link-level decodes by app. * Internal release and validation. * Release to new deep links customers and validation.', metadata={'id': 'f8924d08e83bd9254b0970a358d9c15c', 'source': 'gs://bitly-enterprise-search-docs/prepared_data_clean_plus_summary/coding_guide_product_requirements_back_end_architecture.txt:'})]\n"
     ]
    },
    {
     "data": {
      "text/plain": [
       "{'question': 'How to create a new service?',\n",
       " 'answer': ' The process of creating a new service on a cloud VM or GKE involves setting up the package and base file structure, setting up the infrastructure for the service, adding the service to the Internal API Explorer, and creating a local copy of the branch.\\n',\n",
       " 'sources': 'gs://bitly-enterprise-search-docs/prepared_data_clean_plus_summary/standards_create_a_service.txt:',\n",
       " 'source_documents': [Document(page_content='---------- Summary: This document describes the process of creating a new service on either a cloud VM or GKE. To create a new service on a cloud VM, follow these steps: 1. Set up the package and base file structure. 2. Set up the infrastructure for the service. 3. Add the service to the Internal API Explorer. 4.', metadata={'id': 'a3dffd453cbe7e4ee78520b55cb95245', 'source': 'gs://bitly-enterprise-search-docs/prepared_data_clean_plus_summary/standards_create_a_service.txt:'}),\n",
       "  Document(page_content='To do this, they will need to have created a PR first. * To create a local copy of their branch run: ```bash git fetch bitly pull/{{PR NUMBER}}/head:{{WHAT LOCAL BRANCH SHOULD BE NAMED}} ``` * Checkout the branch as you normally would to work on it * To push changes to the branch, using the GitHub username of the person you pulled from and their original branch name run: ```bash git push -f {{GITHUB USERNAME}} HEAD:{{BRANCH NAME}} ``` * ***IMPORTANT***: The above command uses the `-f` flag to force push so be sure you have the latest version of their branch pulled down (if applicable) and that you are ok to potentially overwrite their commit history before pushing. If you are simply adding a commit, you can leave this off. * ***NOTE***: In order to do this, you must have the user&#39;s git remote added to your vm.', metadata={'id': 'c54d3aa5203dbb127be8952eed494a28', 'source': 'gs://bitly-enterprise-search-docs/prepared_data_clean_plus_summary/get_started_guide_new_bitizen_survival_guide.txt:'}),\n",
       "  Document(page_content='Additional questions have been tracked. ### Which back-end data store should store feature limit usage?', metadata={'id': '4f54e00a70267aa127c57353c285db8a', 'source': 'gs://bitly-enterprise-search-docs/prepared_data_clean_plus_summary/coding_guide_product_requirements_feature_usage.txt:'}),\n",
       "  Document(page_content='* Create `v4_api` endpoints to enable configuration of deep link apps/SAF * Update `bitly2/decodes_app` to add new logic that calls new internal service for SAF look-up and link-level decodes by app. * Internal release and validation. * Release to new deep links customers and validation.', metadata={'id': 'f8924d08e83bd9254b0970a358d9c15c', 'source': 'gs://bitly-enterprise-search-docs/prepared_data_clean_plus_summary/coding_guide_product_requirements_back_end_architecture.txt:'})]}"
      ]
     },
     "execution_count": 15,
     "metadata": {},
     "output_type": "execute_result"
    }
   ],
   "source": [
    "# Create chain to answer questions\n",
    "from langchain.chains import RetrievalQAWithSourcesChain\n",
    "from langchain.llms import VertexAI\n",
    "from langchain.retrievers import GoogleCloudEnterpriseSearchRetriever\n",
    "\n",
    "retriever = GoogleCloudEnterpriseSearchRetriever(\n",
    "    project_id=PROJECT_ID,\n",
    "    search_engine_id=SEARCH_ENGINE_ID,\n",
    "    max_documents=4,\n",
    "    get_extractive_answers=True,\n",
    "    engine_data_type=0\n",
    ")\n",
    "\n",
    "query = \"How to create a new service?\"\n",
    "\n",
    "result = retriever.get_relevant_documents(query)\n",
    "print(result)\n",
    "\n",
    "chain = RetrievalQAWithSourcesChain.from_chain_type(\n",
    "    VertexAI(temperature=0, max_output_tokens=1000), chain_type=\"stuff\", retriever=retriever,\n",
    "    return_source_documents = True\n",
    ")\n",
    "\n",
    "chain(\n",
    "    {\"question\": query},\n",
    "    # return_only_outputs=True,\n",
    ")"
   ]
  },
  {
   "cell_type": "code",
   "execution_count": null,
   "metadata": {},
   "outputs": [],
   "source": []
  }
 ],
 "metadata": {
  "kernelspec": {
   "display_name": "myenv",
   "language": "python",
   "name": "python3"
  },
  "language_info": {
   "codemirror_mode": {
    "name": "ipython",
    "version": 3
   },
   "file_extension": ".py",
   "mimetype": "text/x-python",
   "name": "python",
   "nbconvert_exporter": "python",
   "pygments_lexer": "ipython3",
   "version": "3.9.6"
  },
  "orig_nbformat": 4
 },
 "nbformat": 4,
 "nbformat_minor": 2
}
